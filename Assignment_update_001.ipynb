{
 "cells": [
  {
   "cell_type": "markdown",
   "metadata": {},
   "source": [
    "# Big Data Modeling and Management Assigment (Question 9 Revision)\n",
    "\n",
    "\n",
    "## 🍺 The Beer project  🍺 \n",
    "\n",
    "As it was shown in classes, graph databases are a natural way of navegating distinct types of data. For this first project we will be taking a graph database to analyse beer and breweries!   \n",
    "\n",
    "_For reference the dataset used for this project has been extracted from [kaggle](https://www.kaggle.com/ehallmar/beers-breweries-and-beer-reviews), released by Evan Hallmark. Even though the author does not present metada on the origin of the data it is probably a collection of open data from places like [beeradvocate](https://www.beeradvocate.com/)_ \n",
    "\n",
    "#### Problem description\n",
    "\n",
    "Explore the database via python neo4j connector and/or the graphical tool in the NEO4J webpage. Answer the questions. Submit the results by following the instructions\n",
    "\n",
    "\n",
    "#### Questions\n",
    "\n",
    "\n",
    "0. __Example Question__ _How many beers does the database contain?_\n",
    "1. How many different countries exist in the database?\n",
    "1. Most reviews:  \n",
    "    1. Which `Beer` has the most reviews?  \n",
    "    1. Which `Brewery` has the most reviews for its beers?\n",
    "    1. Which `Country` has the most reviews for its beers? \n",
    "1. Find the user/users that have the most shared reviews (reviews of the same beers) with the user CTJman?\n",
    "1. Which Portuguese brewery has the most beers?\n",
    "1. From those beers (the ones returned from the previous question), which has the most reviews?\n",
    "1. On average how many different beer styles does each brewery produce?\n",
    "1. Which brewery produces the strongest beers according to ABV?\n",
    "1. If I typically enjoy a beer due to its aroma and appearance, which beer style should I try?\n",
    "1. Using Graph Algorithms answer **two** of the following questions:\n",
    "    1. Which two countries are most similiar when it comes to their **top 10** most produced Beer styles? \n",
    "    2. <span style=\"color:red\">Which beer has the most similar reviews as the beer `Super Bock Stout` ? </span>\n",
    "    3. <span style=\"color:red\">Which user is the most influential when it comes to reviews made? </span>\n",
    "    4. Which beer styles are more central when it comes the amount of beers? \n",
    "    5. <span style=\"color:green\">Which beer is the most influential when considering beers are conected by users who review them? </span>\n",
    "    6. <span style=\"color:green\">Users are connected together by their reviews to beers, taking into consideration the \"overall\" score they review as a weight, how many communities are formed from these relationships? How many users has the biggest community? </span> \n",
    "    \n",
    "Notes: \n",
    "- We've added some more questions in <span style=\"color:green\">green</span>, so you have a broader choice.\n",
    "- Questions in <span style=\"color:red\">red</span> have an added dificulty, which will be considered while grading if chosen.\n",
    "- Consider creating nodes for the STYLES and USERS. \n",
    "- For an example on how to perform such CRUD operations, plese use the \"load HW1 DB.ipynb\" jupyter notebook.\n",
    "- In case of a tie for the top entity, in terms of metrics outputed from the algorithms, **simply output the first.**\n",
    "\n",
    "10. If you had to pick 3 beers to recommend using only this database, which would you pick and why?\n",
    "\n",
    "\n",
    " Questions 8 to 10 are somewhat open, which means we'll also be evaluating the reasoning behind your answer. So there aren't necessarily bad results there are only wrong criteria, explanations or execution. \n",
    " \n",
    "#### Groups  \n",
    "\n",
    "Groups should have 4 to 5 people.\n",
    "You should register your group on **moodle**.\n",
    "\n",
    "#### Submission      \n",
    "\n",
    "The code used to produce the results and respective explations should be uploaded to moodle. They should have a clear reference to the group, either on the file name or on the document itself. Preferably one Jupyter notebook per group.\n",
    "\n",
    "Delivery date: Until the **midnight of May 16**\n",
    "\n",
    "#### Evaluation   \n",
    "\n",
    "This will be 20% of the final grade.   \n",
    "Each solution will be evaluated on 2 components: correctness of results and simplicity of the solution.  \n",
    "All code will go through plagiarism automated checks. Groups with the same code will undergo investigation."
   ]
  },
  {
   "cell_type": "code",
   "execution_count": null,
   "metadata": {},
   "outputs": [],
   "source": [
    "test = secure_graph.run(\"\"\"\n",
    "    CALL gds.graph.project.cypher(\n",
    "        'example',\n",
    "        'MATCH (n:COUNTRY) RETURN id(n) AS id',\n",
    "        'MATCH (n)-[e]-(m) RETURN id(n) AS source, e.weight AS weight, id(m) AS target'\n",
    ")\"\"\").data()\n",
    "\n",
    "# Note: the name 'full_graph' can only be run once, \n",
    "#     then you would need to rename it"
   ]
  },
  {
   "cell_type": "markdown",
   "metadata": {},
   "source": [
    "### Loading the Database\n",
    "\n",
    "#### Be sure that you **don't have** the neo4j docker container from the classes running (you can Stop it in the desktop app or with the command \"docker stop testneo4j\")\n",
    "#### Let's create a new container for the Homework (notice how it has a different name):\n",
    "    docker run --name HW1neo4j -p7474:7474 -p7687:7687 -d --env NEO4J_AUTH=neo4j/test --env NEO4J_dbms_connector_https_advertised_address=\"localhost:7473\" --env NEO4J_dbms_connector_http_advertisedaddress=\"localhost:7474\" --env NEO4J_dbms_connector_bolt_advertised_address=\"localhost:7687\" neo4j\n",
    "    \n",
    "#### The default container does not have any data whatsoever, we will have to load a database into our docker image:\n",
    "- Download and unzip the \"HW1 Database\" file provided in Moodle.\n",
    "- Copy the path of the \"Data\" folder of the unziped file, e.g. \"C:\\Users\\nunoa\\Desktop\\data\".\n",
    "- In your command line (terminal in MacOs) paste the code: \"docker cp C:\\Users\\nunoa\\Desktop\\data HW1neo4j:/\". As you might have notice, you do not have a User called \"nunoa\", please use the appropriate path that you got from the previous step. Additionally, if your container has a different name than \"HW1neo4j\", please change it as well.\n",
    "- Now let's restart our docker container, either in the User Interface (Docker Desktop) or in the command line by typping the command \"docker restart HW1neo4j\".\n",
    "- Since Neo4j is trying to recognize a new database folder, this might take a bit (let's say 3 minutes), so don't worry."
   ]
  },
  {
   "cell_type": "code",
   "execution_count": 41,
   "metadata": {},
   "outputs": [
    {
     "data": {
      "text/plain": [
       "[{'count(*)': 9494213}]"
      ]
     },
     "execution_count": 41,
     "metadata": {},
     "output_type": "execute_result"
    }
   ],
   "source": [
    "import py2neo\n",
    "from pprint import pprint\n",
    "username=\"neo4j\"\n",
    "password=\"test\"\n",
    "host=\"localhost\"\n",
    "port=\"7474\"\n",
    "\n",
    "secure_graph = py2neo.Graph(f\"http://{username}:{password}@{host}:{port}\")\n",
    "\n",
    "secure_graph.run(\"MATCH () RETURN count(*)\").data()"
   ]
  },
  {
   "cell_type": "markdown",
   "metadata": {},
   "source": [
    "#### Understanding the Database"
   ]
  },
  {
   "cell_type": "code",
   "execution_count": 42,
   "metadata": {
    "scrolled": true
   },
   "outputs": [
    {
     "name": "stdout",
     "output_type": "stream",
     "text": [
      "[{'label': 'COUNTRIES'},\n",
      " {'label': 'CITIES'},\n",
      " {'label': 'BREWERIES'},\n",
      " {'label': 'BEERS'},\n",
      " {'label': 'REVIEWS'}]\n"
     ]
    }
   ],
   "source": [
    "result = secure_graph.run(\"\"\"\n",
    "        call db.labels();\n",
    "\"\"\").data()\n",
    "pprint(result)"
   ]
  },
  {
   "cell_type": "code",
   "execution_count": 43,
   "metadata": {},
   "outputs": [
    {
     "name": "stdout",
     "output_type": "stream",
     "text": [
      "[{'relationshipType': 'REVIEWED'},\n",
      " {'relationshipType': 'BREWED'},\n",
      " {'relationshipType': 'IN'}]\n"
     ]
    }
   ],
   "source": [
    "result = secure_graph.run(\"\"\"\n",
    "        CALL db.relationshipTypes();\n",
    "\"\"\").data()\n",
    "pprint(result)"
   ]
  },
  {
   "cell_type": "markdown",
   "metadata": {},
   "source": [
    "#### 1. Most reviews:  \n",
    "    A) Which `Beer` has the most reviews?  \n",
    "    B) Which `Brewery` has the most reviews for its beers?\n",
    "    C) Which `Country` has the most reviews for its beers? "
   ]
  },
  {
   "cell_type": "code",
   "execution_count": 44,
   "metadata": {},
   "outputs": [
    {
     "data": {
      "text/plain": [
       "[{'name': 'IPA', 'reviews': 31387}]"
      ]
     },
     "execution_count": 44,
     "metadata": {},
     "output_type": "execute_result"
    }
   ],
   "source": [
    "#A\n",
    "result = secure_graph.run(\"\"\"\n",
    "\n",
    "    MATCH p=(br:BEERS)-[rv:REVIEWED]->(rev:REVIEWS)                        \n",
    "    RETURN br.name as name, count(br.name) as reviews\n",
    "    ORDER BY reviews DESC \n",
    "    LIMIT 1\n",
    "    \n",
    "\"\"\").data()\n",
    "result"
   ]
  },
  {
   "cell_type": "code",
   "execution_count": 45,
   "metadata": {},
   "outputs": [
    {
     "data": {
      "text/plain": [
       "[{'name': 'Sierra Nevada Brewing Co.', 'reviews': 175161}]"
      ]
     },
     "execution_count": 45,
     "metadata": {},
     "output_type": "execute_result"
    }
   ],
   "source": [
    "#B\n",
    "result = secure_graph.run(\"\"\"\n",
    "\n",
    "    MATCH m =(rev:REVIEWS)-[rv:REVIEWED]-(br:BEERS)-[:BREWED]-(brw:BREWERIES)\n",
    "    RETURN brw.name as name, count(brw.name) as reviews\n",
    "    ORDER BY reviews DESC\n",
    "    LIMIT 1\n",
    "    \n",
    "\"\"\").data()\n",
    "result"
   ]
  },
  {
   "cell_type": "code",
   "execution_count": 46,
   "metadata": {},
   "outputs": [
    {
     "data": {
      "text/plain": [
       "[{'name': 'US', 'reviews': 7517042}]"
      ]
     },
     "execution_count": 46,
     "metadata": {},
     "output_type": "execute_result"
    }
   ],
   "source": [
    "#C\n",
    "result = secure_graph.run(\"\"\"\n",
    "\n",
    "        MATCH m=(re:REVIEWS)-[:REVIEWED]-(br:BEERS)\n",
    "        RETURN br.country as name, count(br.country) as reviews \n",
    "        ORDER BY reviews DESC \n",
    "        LIMIT 1\n",
    "    \n",
    "\"\"\").data()\n",
    "result"
   ]
  },
  {
   "cell_type": "markdown",
   "metadata": {},
   "source": [
    "#### 2. Find the user/users that have the most shared reviews (reviews of the same beers) with the user CTJman?\n"
   ]
  },
  {
   "cell_type": "code",
   "execution_count": 47,
   "metadata": {},
   "outputs": [
    {
     "data": {
      "text/plain": [
       "[{'username': 'acurtis', 'reviews': 1428},\n",
       " {'username': 'Texasfan549', 'reviews': 1257},\n",
       " {'username': 'kjkinsey', 'reviews': 1205},\n",
       " {'username': 'oline73', 'reviews': 1191},\n",
       " {'username': 'chippo33', 'reviews': 1161}]"
      ]
     },
     "execution_count": 47,
     "metadata": {},
     "output_type": "execute_result"
    }
   ],
   "source": [
    "result = secure_graph.run(\"\"\"\n",
    "\n",
    "        MATCH m=(REVIEWS{username:\"CTJman\"})<-[:REVIEWED]-(br:BEERS)-[r:REVIEWED]->(rev:REVIEWS)\n",
    "        RETURN rev.username as username, count(br) as reviews  \n",
    "        ORDER BY reviews DESC \n",
    "        LIMIT 5\n",
    "    \n",
    "\"\"\").data()\n",
    "result"
   ]
  },
  {
   "cell_type": "markdown",
   "metadata": {},
   "source": [
    "#### 3. Which Portuguese brewery has the most beers?\n"
   ]
  },
  {
   "cell_type": "code",
   "execution_count": 48,
   "metadata": {},
   "outputs": [
    {
     "data": {
      "text/plain": [
       "[{'name': 'Dois Corvos Cervejeira', 'beers': 40}]"
      ]
     },
     "execution_count": 48,
     "metadata": {},
     "output_type": "execute_result"
    }
   ],
   "source": [
    "result = secure_graph.run(\"\"\"\n",
    "\n",
    "        MATCH (br:BEERS)-[r:BREWED]-(bre:BREWERIES)\n",
    "        WHERE br.country = 'PT' \n",
    "        RETURN bre.name as name, count(br.name) as beers \n",
    "        ORDER BY beers DESC\n",
    "        LIMIT 1\n",
    "    \n",
    "\"\"\").data()\n",
    "result"
   ]
  },
  {
   "cell_type": "markdown",
   "metadata": {},
   "source": [
    "#### 4. From those beers (the ones produced in the brewery from the previous question), which has the most reviews?\n"
   ]
  },
  {
   "cell_type": "code",
   "execution_count": 49,
   "metadata": {},
   "outputs": [
    {
     "data": {
      "text/plain": [
       "[{'beer': 'Finisterra', 'reviews': 10, 'brewery': 'Dois Corvos Cervejeira'}]"
      ]
     },
     "execution_count": 49,
     "metadata": {},
     "output_type": "execute_result"
    }
   ],
   "source": [
    "result = secure_graph.run(\"\"\"\n",
    "\n",
    "        MATCH m=(re:REVIEWS)-[:REVIEWED]-(br:BEERS)-[:BREWED]-(bre:BREWERIES)-[r:IN]->(cr:CITIES) \n",
    "        WHERE br.country = 'PT' AND bre.name = 'Dois Corvos Cervejeira' \n",
    "        RETURN br.name as beer, count(br.name) as reviews, bre.name as brewery \n",
    "        ORDER BY reviews DESC \n",
    "        LIMIT 1\n",
    "    \n",
    "\"\"\").data()\n",
    "result"
   ]
  },
  {
   "cell_type": "markdown",
   "metadata": {},
   "source": [
    "#### 5. On average how many different beer styles does each brewery produce?\n"
   ]
  },
  {
   "cell_type": "code",
   "execution_count": 50,
   "metadata": {},
   "outputs": [
    {
     "data": {
      "text/plain": [
       "[{'average': 10.7}]"
      ]
     },
     "execution_count": 50,
     "metadata": {},
     "output_type": "execute_result"
    }
   ],
   "source": [
    "result = secure_graph.run(\"\"\"\n",
    "\n",
    "    MATCH (brewy:BREWERIES)-[:BREWED]-(br:BEERS)\n",
    "    WITH brewy.name as brewery_name, count(distinct(br.style)) as styles \n",
    "    RETURN round(avg(styles),1) as average\n",
    "    \n",
    "\"\"\").data()\n",
    "result"
   ]
  },
  {
   "cell_type": "markdown",
   "metadata": {},
   "source": [
    "#### 6. Which brewery produces the strongest beers according to ABV?\n"
   ]
  },
  {
   "cell_type": "code",
   "execution_count": 51,
   "metadata": {},
   "outputs": [
    {
     "data": {
      "text/plain": [
       "[{'Brewery': '1648 Brewing Company Ltd', 'ABV': 100.0}]"
      ]
     },
     "execution_count": 51,
     "metadata": {},
     "output_type": "execute_result"
    }
   ],
   "source": [
    "result = secure_graph.run(\"\"\"\n",
    "         MATCH (br:BREWERIES)-[bw:BREWED]->(b:BEERS)\n",
    "         WHERE toFloat(b.abv)>0\n",
    "         RETURN DISTINCT(br.name) as Brewery, toFloat(b.abv) as ABV\n",
    "         ORDER by toFloat(b.abv) DESC \n",
    "         LIMIT 1\n",
    "\"\"\").data()\n",
    "result"
   ]
  },
  {
   "cell_type": "markdown",
   "metadata": {},
   "source": [
    "#### 7. If I typically enjoy a beer due to its aroma and appearance, which beer style should I try?\n"
   ]
  },
  {
   "cell_type": "code",
   "execution_count": 52,
   "metadata": {},
   "outputs": [
    {
     "name": "stdout",
     "output_type": "stream",
     "text": [
      "[{'appearance': 5.0,\n",
      "  'aroma': 5.0,\n",
      "  'reviews': 16774,\n",
      "  'score': 5.0,\n",
      "  'style': 'American Imperial Stout'},\n",
      " {'appearance': 5.0,\n",
      "  'aroma': 5.0,\n",
      "  'reviews': 10268,\n",
      "  'score': 5.0,\n",
      "  'style': 'American Imperial IPA'},\n",
      " {'appearance': 5.0,\n",
      "  'aroma': 5.0,\n",
      "  'reviews': 9209,\n",
      "  'score': 5.0,\n",
      "  'style': 'New England IPA'},\n",
      " {'appearance': 5.0,\n",
      "  'aroma': 5.0,\n",
      "  'reviews': 7620,\n",
      "  'score': 5.0,\n",
      "  'style': 'American IPA'},\n",
      " {'appearance': 5.0,\n",
      "  'aroma': 5.0,\n",
      "  'reviews': 4405,\n",
      "  'score': 5.0,\n",
      "  'style': 'Russian Imperial Stout'}]\n"
     ]
    }
   ],
   "source": [
    "result = secure_graph.run(\"\"\"\n",
    "         MATCH (b:BEERS)-[rw:REVIEWED]->(r:REVIEWS)\n",
    "         WITH toFloat(r.smell) as aroma, toFloat(r.look) as appearance, b.style as style\n",
    "         WHERE (aroma > 0 and appearance > 0)\n",
    "         RETURN DISTINCT style, aroma, appearance, ((appearance+aroma)/2) as score, count(style) as reviews\n",
    "         ORDER BY score DESC, reviews DESC\n",
    "         LIMIT 5\n",
    "\"\"\").data()\n",
    "pprint(result)"
   ]
  },
  {
   "cell_type": "markdown",
   "metadata": {},
   "source": [
    "#### 8. Using Graph Algorithms answer **two** of the following questions:\n",
    "1. Which two countries are most similiar when it comes to their **top 10** most produced Beer styles? \n",
    "2. <span style=\"color:red\">Which beer has the most similar reviews as the beer `Super Bock Stout` ? </span>\n",
    "3. <span style=\"color:red\">Which user is the most influential when it comes to reviews made? </span>\n",
    "4. Which beer styles are more central when it comes the amount of beers? \n",
    "5. <span style=\"color:green\">Which beer is the most influential when considering beers are conected by users who review them? </span>\n",
    "6. <span style=\"color:green\">Users are connected together by their reviews to beers, taking into consideration the \"overall\" score they review as a weight, how many communities are formed from these relationships? How many users has the biggest community? </span> \n",
    "    \n",
    "Notes: \n",
    "- We've added some more questions in <span style=\"color:green\">green</span>, so you have a broader choice.\n",
    "- Questions in <span style=\"color:red\">red</span> have an added dificulty, which will be considered while grading if chosen.\n",
    "- Consider creating nodes for the STYLES and USERS. \n",
    "- For an example on how to perform such CRUD operations, plese use the \"load HW1 DB.ipynb\" jupyter notebook.\n",
    "- In case of a tie for the top entity, in terms of metrics outputed from the algorithms, **simply output the first.**"
   ]
  },
  {
   "cell_type": "code",
   "execution_count": null,
   "metadata": {},
   "outputs": [],
   "source": []
  },
  {
   "cell_type": "code",
   "execution_count": null,
   "metadata": {},
   "outputs": [],
   "source": []
  },
  {
   "cell_type": "code",
   "execution_count": null,
   "metadata": {},
   "outputs": [],
   "source": []
  },
  {
   "cell_type": "markdown",
   "metadata": {},
   "source": [
    "#### 9. If you had to pick 3 beers to recommend using only this database, which would you pick and why?"
   ]
  },
  {
   "cell_type": "markdown",
   "metadata": {},
   "source": [
    "The main factor for recommending a beer would be its overall score, using the score of taste as a tie breaker. Also, reviews containing positive words such as 'love', 'like', 'good' or 'great' should be taken into consideration"
   ]
  },
  {
   "cell_type": "code",
   "execution_count": 53,
   "metadata": {},
   "outputs": [
    {
     "data": {
      "text/plain": [
       "[{'beer': 'Heady Topper',\n",
       "  'style': 'New England IPA',\n",
       "  'overall': 5.0,\n",
       "  'taste': 5.0,\n",
       "  'reviews': 2089},\n",
       " {'beer': 'Pliny The Elder',\n",
       "  'style': 'American Imperial IPA',\n",
       "  'overall': 5.0,\n",
       "  'taste': 5.0,\n",
       "  'reviews': 1753},\n",
       " {'beer': 'KBS (Kentucky Breakfast Stout)',\n",
       "  'style': 'American Imperial Stout',\n",
       "  'overall': 5.0,\n",
       "  'taste': 5.0,\n",
       "  'reviews': 1259}]"
      ]
     },
     "execution_count": 53,
     "metadata": {},
     "output_type": "execute_result"
    }
   ],
   "source": [
    "result = secure_graph.run(\"\"\"\n",
    "\n",
    "       MATCH (b:BEERS)-[rw:REVIEWED]->(r:REVIEWS)\n",
    "       WITH b.name as beer, toFloat(r.overall) as overall, toFloat(r.taste) as taste, b.style as style\n",
    "       WHERE (overall > 0 and taste > 0)\n",
    "       RETURN DISTINCT beer, style, overall, taste, count(style) as reviews\n",
    "       ORDER BY overall DESC, taste DESC, reviews DESC\n",
    "       LIMIT 3 \n",
    "    \n",
    "\"\"\").data()\n",
    "result"
   ]
  },
  {
   "cell_type": "markdown",
   "metadata": {},
   "source": [
    "Group: David Santos (r20181082) and Foazul Islam (m20200750)\n",
    "\n",
    "The extra materials took too much time to run, and caused serious damage to our computers, so unfortunately, without those materials, we couldn't complete exercise 8"
   ]
  }
 ],
 "metadata": {
  "kernelspec": {
   "display_name": "Python 3 (ipykernel)",
   "language": "python",
   "name": "python3"
  },
  "language_info": {
   "codemirror_mode": {
    "name": "ipython",
    "version": 3
   },
   "file_extension": ".py",
   "mimetype": "text/x-python",
   "name": "python",
   "nbconvert_exporter": "python",
   "pygments_lexer": "ipython3",
   "version": "3.9.7"
  }
 },
 "nbformat": 4,
 "nbformat_minor": 4
}
